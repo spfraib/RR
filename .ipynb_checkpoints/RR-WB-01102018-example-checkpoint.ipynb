{
 "cells": [
  {
   "cell_type": "markdown",
   "metadata": {},
   "source": [
    "# Reproducible Research in Python"
   ]
  },
  {
   "cell_type": "markdown",
   "metadata": {},
   "source": [
    "The goal of reproducible research is to tie specific instructions to data analysis and experimental data so that scholarship can be recreated, better understood and verified.\n",
    "\n",
    "In order to convert this analysis into something reproducible, we need to be able to answer 5 questions:"
   ]
  },
  {
   "cell_type": "markdown",
   "metadata": {},
   "source": [
    "1. What did I do?\n",
    "2. Why did I do it?\n",
    "3. How did I set up everything at the time of the analysis?\n",
    "4. When did I make changes, and what were they?\n",
    "5. Who needs to access it, and how can I get it to them?"
   ]
  },
  {
   "cell_type": "code",
   "execution_count": 3,
   "metadata": {
    "collapsed": true
   },
   "outputs": [],
   "source": [
    "from pandas import Series, DataFrame\n",
    "import pandas as pd\n",
    "from time import time"
   ]
  },
  {
   "cell_type": "code",
   "execution_count": 4,
   "metadata": {},
   "outputs": [
    {
     "name": "stdout",
     "output_type": "stream",
     "text": [
      "Done in 9.411870002746582 sec\n"
     ]
    }
   ],
   "source": [
    "# Import life expectancy and predictor data from World Health Organisation Global\n",
    "# Health Observatory data repo (http://www.who.int/gho/en/)\n",
    "# Downloaded on 10th September, 2016\n",
    "def dataImport(dataurl):\n",
    "    url = dataurl\n",
    "    return pd.read_csv(url)\n",
    "\n",
    "start = time()\n",
    "\n",
    "# 1. Life expectancy (from: http://apps.who.int/gho/data/node.main.688?lang=en)\n",
    "life = dataImport(\n",
    "\"http://apps.who.int/gho/athena/data/xmart.csv?target=GHO/WHOSIS_000001,WHOSIS_000015&profile=crosstable&filter=COUNTRY:*&x-sideaxis=COUNTRY;YEAR&x-topaxis=GHO;SEX\")\n",
    "print('Done in', time() - start,'sec')"
   ]
  },
  {
   "cell_type": "code",
   "execution_count": 5,
   "metadata": {
    "collapsed": true
   },
   "outputs": [],
   "source": [
    "# Create function for cleaning each imported DataFrame\n",
    "def cleaningData(data, rowsToKeep, outcome, colsToDrop = [], varNames = [], colsToConvert = [], year = None):\n",
    "    d = data.ix[rowsToKeep : ]\n",
    "    if colsToDrop:\n",
    "        d = d.drop(d.columns[colsToDrop], axis = 1)\n",
    "\n",
    "    d.columns = varNames\n",
    "\n",
    "    if (d[outcome].dtype == 'O'):\n",
    "        if (d[outcome].str.contains(\"\\[\").any()):\n",
    "            d[outcome] = d[outcome].apply(lambda x: x.split(' [')[0])\n",
    "            d[outcome] = d[outcome].str.replace(' ', '')\n",
    "\n",
    "    d[colsToConvert] = d[colsToConvert].apply(lambda x: pd.to_numeric(x, errors ='coerce'))\n",
    "\n",
    "    if 'Year' in list(d.columns.values):\n",
    "        d = d.loc[d['Year'] == year]\n",
    "        del d['Year']\n",
    "    return d"
   ]
  },
  {
   "cell_type": "markdown",
   "metadata": {},
   "source": [
    "# Literate Programming"
   ]
  },
  {
   "cell_type": "markdown",
   "metadata": {},
   "source": [
    "A literate program is an explanation of the program logic in a natural language, such as English, interspersed with snippets of macros and traditional source code."
   ]
  },
  {
   "cell_type": "code",
   "execution_count": 7,
   "metadata": {},
   "outputs": [
    {
     "data": {
      "text/html": [
       "<div>\n",
       "<style scoped>\n",
       "    .dataframe tbody tr th:only-of-type {\n",
       "        vertical-align: middle;\n",
       "    }\n",
       "\n",
       "    .dataframe tbody tr th {\n",
       "        vertical-align: top;\n",
       "    }\n",
       "\n",
       "    .dataframe thead th {\n",
       "        text-align: right;\n",
       "    }\n",
       "</style>\n",
       "<table border=\"1\" class=\"dataframe\">\n",
       "  <thead>\n",
       "    <tr style=\"text-align: right;\">\n",
       "      <th></th>\n",
       "      <th>Unnamed: 0</th>\n",
       "      <th>Unnamed: 1</th>\n",
       "      <th>Life expectancy at birth (years)</th>\n",
       "      <th>Life expectancy at birth (years).1</th>\n",
       "      <th>Life expectancy at birth (years).2</th>\n",
       "      <th>Life expectancy at age 60 (years)</th>\n",
       "      <th>Life expectancy at age 60 (years).1</th>\n",
       "      <th>Life expectancy at age 60 (years).2</th>\n",
       "    </tr>\n",
       "  </thead>\n",
       "  <tbody>\n",
       "    <tr>\n",
       "      <th>0</th>\n",
       "      <td>Country</td>\n",
       "      <td>Year</td>\n",
       "      <td>Both sexes</td>\n",
       "      <td>Male</td>\n",
       "      <td>Female</td>\n",
       "      <td>Both sexes</td>\n",
       "      <td>Male</td>\n",
       "      <td>Female</td>\n",
       "    </tr>\n",
       "    <tr>\n",
       "      <th>1</th>\n",
       "      <td>Afghanistan</td>\n",
       "      <td>2015</td>\n",
       "      <td>60.5</td>\n",
       "      <td>59.3</td>\n",
       "      <td>61.9</td>\n",
       "      <td>16.0</td>\n",
       "      <td>15.3</td>\n",
       "      <td>16.7</td>\n",
       "    </tr>\n",
       "    <tr>\n",
       "      <th>2</th>\n",
       "      <td>Afghanistan</td>\n",
       "      <td>2014</td>\n",
       "      <td>59.9</td>\n",
       "      <td>58.6</td>\n",
       "      <td>61.3</td>\n",
       "      <td>15.9</td>\n",
       "      <td>15.2</td>\n",
       "      <td>16.6</td>\n",
       "    </tr>\n",
       "    <tr>\n",
       "      <th>3</th>\n",
       "      <td>Afghanistan</td>\n",
       "      <td>2013</td>\n",
       "      <td>59.9</td>\n",
       "      <td>58.7</td>\n",
       "      <td>61.2</td>\n",
       "      <td>15.9</td>\n",
       "      <td>15.2</td>\n",
       "      <td>16.6</td>\n",
       "    </tr>\n",
       "    <tr>\n",
       "      <th>4</th>\n",
       "      <td>Afghanistan</td>\n",
       "      <td>2012</td>\n",
       "      <td>59.5</td>\n",
       "      <td>58.3</td>\n",
       "      <td>60.8</td>\n",
       "      <td>15.8</td>\n",
       "      <td>15.1</td>\n",
       "      <td>16.5</td>\n",
       "    </tr>\n",
       "  </tbody>\n",
       "</table>\n",
       "</div>"
      ],
      "text/plain": [
       "    Unnamed: 0 Unnamed: 1 Life expectancy at birth (years)  \\\n",
       "0      Country       Year                       Both sexes   \n",
       "1  Afghanistan       2015                             60.5   \n",
       "2  Afghanistan       2014                             59.9   \n",
       "3  Afghanistan       2013                             59.9   \n",
       "4  Afghanistan       2012                             59.5   \n",
       "\n",
       "  Life expectancy at birth (years).1 Life expectancy at birth (years).2  \\\n",
       "0                               Male                             Female   \n",
       "1                               59.3                               61.9   \n",
       "2                               58.6                               61.3   \n",
       "3                               58.7                               61.2   \n",
       "4                               58.3                               60.8   \n",
       "\n",
       "  Life expectancy at age 60 (years) Life expectancy at age 60 (years).1  \\\n",
       "0                        Both sexes                                Male   \n",
       "1                              16.0                                15.3   \n",
       "2                              15.9                                15.2   \n",
       "3                              15.9                                15.2   \n",
       "4                              15.8                                15.1   \n",
       "\n",
       "  Life expectancy at age 60 (years).2  \n",
       "0                              Female  \n",
       "1                                16.7  \n",
       "2                                16.6  \n",
       "3                                16.6  \n",
       "4                                16.5  "
      ]
     },
     "execution_count": 7,
     "metadata": {},
     "output_type": "execute_result"
    }
   ],
   "source": [
    "life.head()"
   ]
  },
  {
   "cell_type": "code",
   "execution_count": null,
   "metadata": {
    "collapsed": true
   },
   "outputs": [],
   "source": []
  }
 ],
 "metadata": {
  "kernelspec": {
   "display_name": "Python [default]",
   "language": "python",
   "name": "python3"
  },
  "language_info": {
   "codemirror_mode": {
    "name": "ipython",
    "version": 3
   },
   "file_extension": ".py",
   "mimetype": "text/x-python",
   "name": "python",
   "nbconvert_exporter": "python",
   "pygments_lexer": "ipython3",
   "version": "3.5.4"
  }
 },
 "nbformat": 4,
 "nbformat_minor": 2
}
